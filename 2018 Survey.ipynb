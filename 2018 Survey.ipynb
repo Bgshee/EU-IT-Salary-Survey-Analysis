{
 "cells": [
  {
   "cell_type": "code",
   "execution_count": 1,
   "id": "6526b7d4",
   "metadata": {},
   "outputs": [],
   "source": [
    "import pandas as pd\n",
    "import numpy as np\n",
    "import seaborn as sns\n",
    "import matplotlib.pyplot as plt"
   ]
  },
  {
   "cell_type": "code",
   "execution_count": 3,
   "id": "b4cc8929",
   "metadata": {},
   "outputs": [
    {
     "data": {
      "text/html": [
       "<div>\n",
       "<style scoped>\n",
       "    .dataframe tbody tr th:only-of-type {\n",
       "        vertical-align: middle;\n",
       "    }\n",
       "\n",
       "    .dataframe tbody tr th {\n",
       "        vertical-align: top;\n",
       "    }\n",
       "\n",
       "    .dataframe thead th {\n",
       "        text-align: right;\n",
       "    }\n",
       "</style>\n",
       "<table border=\"1\" class=\"dataframe\">\n",
       "  <thead>\n",
       "    <tr style=\"text-align: right;\">\n",
       "      <th></th>\n",
       "      <th>Timestamp</th>\n",
       "      <th>Age</th>\n",
       "      <th>Gender</th>\n",
       "      <th>City</th>\n",
       "      <th>Position</th>\n",
       "      <th>Years of experience</th>\n",
       "      <th>Your level</th>\n",
       "      <th>Current Salary</th>\n",
       "      <th>Salary one year ago</th>\n",
       "      <th>Salary two years ago</th>\n",
       "      <th>Are you getting any Stock Options?</th>\n",
       "      <th>Main language at work</th>\n",
       "      <th>Company size</th>\n",
       "      <th>Company type</th>\n",
       "    </tr>\n",
       "  </thead>\n",
       "  <tbody>\n",
       "    <tr>\n",
       "      <th>0</th>\n",
       "      <td>14/12/2018 12:41:33</td>\n",
       "      <td>43.0</td>\n",
       "      <td>M</td>\n",
       "      <td>München</td>\n",
       "      <td>QA Ingenieur</td>\n",
       "      <td>11.0</td>\n",
       "      <td>Senior</td>\n",
       "      <td>77000.0</td>\n",
       "      <td>76200.0</td>\n",
       "      <td>68000.0</td>\n",
       "      <td>No</td>\n",
       "      <td>Deutsch</td>\n",
       "      <td>100-1000</td>\n",
       "      <td>Product</td>\n",
       "    </tr>\n",
       "    <tr>\n",
       "      <th>1</th>\n",
       "      <td>14/12/2018 12:42:09</td>\n",
       "      <td>33.0</td>\n",
       "      <td>F</td>\n",
       "      <td>München</td>\n",
       "      <td>Senior PHP Magento developer</td>\n",
       "      <td>8.0</td>\n",
       "      <td>Senior</td>\n",
       "      <td>65000.0</td>\n",
       "      <td>55000.0</td>\n",
       "      <td>55000.0</td>\n",
       "      <td>No</td>\n",
       "      <td>Deutsch</td>\n",
       "      <td>50-100</td>\n",
       "      <td>Product</td>\n",
       "    </tr>\n",
       "    <tr>\n",
       "      <th>2</th>\n",
       "      <td>14/12/2018 12:47:36</td>\n",
       "      <td>32.0</td>\n",
       "      <td>M</td>\n",
       "      <td>München</td>\n",
       "      <td>Software Engineer</td>\n",
       "      <td>10.0</td>\n",
       "      <td>Senior</td>\n",
       "      <td>88000.0</td>\n",
       "      <td>73000.0</td>\n",
       "      <td>54000.0</td>\n",
       "      <td>No</td>\n",
       "      <td>Deutsch</td>\n",
       "      <td>1000+</td>\n",
       "      <td>Product</td>\n",
       "    </tr>\n",
       "    <tr>\n",
       "      <th>3</th>\n",
       "      <td>14/12/2018 12:50:15</td>\n",
       "      <td>25.0</td>\n",
       "      <td>M</td>\n",
       "      <td>München</td>\n",
       "      <td>Senior Frontend Developer</td>\n",
       "      <td>6.0</td>\n",
       "      <td>Senior</td>\n",
       "      <td>78000.0</td>\n",
       "      <td>55000.0</td>\n",
       "      <td>45000.0</td>\n",
       "      <td>Yes</td>\n",
       "      <td>English</td>\n",
       "      <td>1000+</td>\n",
       "      <td>Product</td>\n",
       "    </tr>\n",
       "    <tr>\n",
       "      <th>4</th>\n",
       "      <td>14/12/2018 12:50:31</td>\n",
       "      <td>39.0</td>\n",
       "      <td>M</td>\n",
       "      <td>München</td>\n",
       "      <td>UX Designer</td>\n",
       "      <td>10.0</td>\n",
       "      <td>Senior</td>\n",
       "      <td>69000.0</td>\n",
       "      <td>60000.0</td>\n",
       "      <td>52000.0</td>\n",
       "      <td>No</td>\n",
       "      <td>English</td>\n",
       "      <td>100-1000</td>\n",
       "      <td>Ecom retailer</td>\n",
       "    </tr>\n",
       "  </tbody>\n",
       "</table>\n",
       "</div>"
      ],
      "text/plain": [
       "             Timestamp   Age Gender     City                       Position  \\\n",
       "0  14/12/2018 12:41:33  43.0      M  München                   QA Ingenieur   \n",
       "1  14/12/2018 12:42:09  33.0      F  München  Senior PHP Magento developer    \n",
       "2  14/12/2018 12:47:36  32.0      M  München              Software Engineer   \n",
       "3  14/12/2018 12:50:15  25.0      M  München      Senior Frontend Developer   \n",
       "4  14/12/2018 12:50:31  39.0      M  München                    UX Designer   \n",
       "\n",
       "   Years of experience Your level  Current Salary  Salary one year ago  \\\n",
       "0                 11.0     Senior         77000.0              76200.0   \n",
       "1                  8.0     Senior         65000.0              55000.0   \n",
       "2                 10.0     Senior         88000.0              73000.0   \n",
       "3                  6.0     Senior         78000.0              55000.0   \n",
       "4                 10.0     Senior         69000.0              60000.0   \n",
       "\n",
       "   Salary two years ago Are you getting any Stock Options?  \\\n",
       "0               68000.0                                 No   \n",
       "1               55000.0                                 No   \n",
       "2               54000.0                                 No   \n",
       "3               45000.0                                Yes   \n",
       "4               52000.0                                 No   \n",
       "\n",
       "  Main language at work Company size   Company type  \n",
       "0               Deutsch     100-1000        Product  \n",
       "1               Deutsch       50-100        Product  \n",
       "2               Deutsch        1000+        Product  \n",
       "3               English        1000+        Product  \n",
       "4               English     100-1000  Ecom retailer  "
      ]
     },
     "execution_count": 3,
     "metadata": {},
     "output_type": "execute_result"
    }
   ],
   "source": [
    "df=pd.read_csv(\"IT Salary Survey EU 2018.csv\")\n",
    "df.head()"
   ]
  },
  {
   "cell_type": "code",
   "execution_count": 4,
   "id": "9646fad6",
   "metadata": {},
   "outputs": [
    {
     "data": {
      "text/plain": [
       "(765, 14)"
      ]
     },
     "execution_count": 4,
     "metadata": {},
     "output_type": "execute_result"
    }
   ],
   "source": [
    "df.shape"
   ]
  },
  {
   "cell_type": "code",
   "execution_count": 5,
   "id": "54ec173c",
   "metadata": {},
   "outputs": [
    {
     "name": "stdout",
     "output_type": "stream",
     "text": [
      "<class 'pandas.core.frame.DataFrame'>\n",
      "RangeIndex: 765 entries, 0 to 764\n",
      "Data columns (total 14 columns):\n",
      " #   Column                              Non-Null Count  Dtype  \n",
      "---  ------                              --------------  -----  \n",
      " 0   Timestamp                           765 non-null    object \n",
      " 1   Age                                 672 non-null    float64\n",
      " 2   Gender                              751 non-null    object \n",
      " 3   City                                736 non-null    object \n",
      " 4   Position                            737 non-null    object \n",
      " 5   Years of experience                 732 non-null    float64\n",
      " 6   Your level                          743 non-null    object \n",
      " 7   Current Salary                      750 non-null    float64\n",
      " 8   Salary one year ago                 596 non-null    float64\n",
      " 9   Salary two years ago                463 non-null    float64\n",
      " 10  Are you getting any Stock Options?  742 non-null    object \n",
      " 11  Main language at work               750 non-null    object \n",
      " 12  Company size                        750 non-null    object \n",
      " 13  Company type                        730 non-null    object \n",
      "dtypes: float64(5), object(9)\n",
      "memory usage: 83.8+ KB\n"
     ]
    }
   ],
   "source": [
    "df.info()"
   ]
  },
  {
   "cell_type": "code",
   "execution_count": 6,
   "id": "625f55fb",
   "metadata": {},
   "outputs": [
    {
     "data": {
      "text/html": [
       "<div>\n",
       "<style scoped>\n",
       "    .dataframe tbody tr th:only-of-type {\n",
       "        vertical-align: middle;\n",
       "    }\n",
       "\n",
       "    .dataframe tbody tr th {\n",
       "        vertical-align: top;\n",
       "    }\n",
       "\n",
       "    .dataframe thead th {\n",
       "        text-align: right;\n",
       "    }\n",
       "</style>\n",
       "<table border=\"1\" class=\"dataframe\">\n",
       "  <thead>\n",
       "    <tr style=\"text-align: right;\">\n",
       "      <th></th>\n",
       "      <th>Age</th>\n",
       "      <th>Years of experience</th>\n",
       "      <th>Current Salary</th>\n",
       "      <th>Salary one year ago</th>\n",
       "      <th>Salary two years ago</th>\n",
       "    </tr>\n",
       "  </thead>\n",
       "  <tbody>\n",
       "    <tr>\n",
       "      <th>count</th>\n",
       "      <td>672.000000</td>\n",
       "      <td>732.000000</td>\n",
       "      <td>750.000000</td>\n",
       "      <td>596.000000</td>\n",
       "      <td>463.000000</td>\n",
       "    </tr>\n",
       "    <tr>\n",
       "      <th>mean</th>\n",
       "      <td>32.183036</td>\n",
       "      <td>8.548497</td>\n",
       "      <td>68381.765333</td>\n",
       "      <td>62187.278523</td>\n",
       "      <td>58013.475162</td>\n",
       "    </tr>\n",
       "    <tr>\n",
       "      <th>std</th>\n",
       "      <td>5.107268</td>\n",
       "      <td>4.729557</td>\n",
       "      <td>21196.306557</td>\n",
       "      <td>20163.008663</td>\n",
       "      <td>20413.048908</td>\n",
       "    </tr>\n",
       "    <tr>\n",
       "      <th>min</th>\n",
       "      <td>21.000000</td>\n",
       "      <td>0.000000</td>\n",
       "      <td>10300.000000</td>\n",
       "      <td>10001.000000</td>\n",
       "      <td>10001.000000</td>\n",
       "    </tr>\n",
       "    <tr>\n",
       "      <th>25%</th>\n",
       "      <td>29.000000</td>\n",
       "      <td>5.000000</td>\n",
       "      <td>57000.000000</td>\n",
       "      <td>52000.000000</td>\n",
       "      <td>48000.000000</td>\n",
       "    </tr>\n",
       "    <tr>\n",
       "      <th>50%</th>\n",
       "      <td>32.000000</td>\n",
       "      <td>8.000000</td>\n",
       "      <td>65000.000000</td>\n",
       "      <td>60000.000000</td>\n",
       "      <td>56000.000000</td>\n",
       "    </tr>\n",
       "    <tr>\n",
       "      <th>75%</th>\n",
       "      <td>35.000000</td>\n",
       "      <td>11.000000</td>\n",
       "      <td>75000.000000</td>\n",
       "      <td>70000.000000</td>\n",
       "      <td>67000.000000</td>\n",
       "    </tr>\n",
       "    <tr>\n",
       "      <th>max</th>\n",
       "      <td>60.000000</td>\n",
       "      <td>38.000000</td>\n",
       "      <td>200000.000000</td>\n",
       "      <td>200000.000000</td>\n",
       "      <td>150000.000000</td>\n",
       "    </tr>\n",
       "  </tbody>\n",
       "</table>\n",
       "</div>"
      ],
      "text/plain": [
       "              Age  Years of experience  Current Salary  Salary one year ago  \\\n",
       "count  672.000000           732.000000      750.000000           596.000000   \n",
       "mean    32.183036             8.548497    68381.765333         62187.278523   \n",
       "std      5.107268             4.729557    21196.306557         20163.008663   \n",
       "min     21.000000             0.000000    10300.000000         10001.000000   \n",
       "25%     29.000000             5.000000    57000.000000         52000.000000   \n",
       "50%     32.000000             8.000000    65000.000000         60000.000000   \n",
       "75%     35.000000            11.000000    75000.000000         70000.000000   \n",
       "max     60.000000            38.000000   200000.000000        200000.000000   \n",
       "\n",
       "       Salary two years ago  \n",
       "count            463.000000  \n",
       "mean           58013.475162  \n",
       "std            20413.048908  \n",
       "min            10001.000000  \n",
       "25%            48000.000000  \n",
       "50%            56000.000000  \n",
       "75%            67000.000000  \n",
       "max           150000.000000  "
      ]
     },
     "execution_count": 6,
     "metadata": {},
     "output_type": "execute_result"
    }
   ],
   "source": [
    "df.describe()"
   ]
  },
  {
   "cell_type": "code",
   "execution_count": 7,
   "id": "ef55de28",
   "metadata": {},
   "outputs": [
    {
     "data": {
      "text/html": [
       "<div>\n",
       "<style scoped>\n",
       "    .dataframe tbody tr th:only-of-type {\n",
       "        vertical-align: middle;\n",
       "    }\n",
       "\n",
       "    .dataframe tbody tr th {\n",
       "        vertical-align: top;\n",
       "    }\n",
       "\n",
       "    .dataframe thead th {\n",
       "        text-align: right;\n",
       "    }\n",
       "</style>\n",
       "<table border=\"1\" class=\"dataframe\">\n",
       "  <thead>\n",
       "    <tr style=\"text-align: right;\">\n",
       "      <th></th>\n",
       "      <th>Timestamp</th>\n",
       "      <th>Age</th>\n",
       "      <th>Gender</th>\n",
       "      <th>City</th>\n",
       "      <th>Position</th>\n",
       "      <th>Years of experience</th>\n",
       "      <th>Your level</th>\n",
       "      <th>Current Salary</th>\n",
       "      <th>Salary one year ago</th>\n",
       "      <th>Salary two years ago</th>\n",
       "      <th>Are you getting any Stock Options?</th>\n",
       "      <th>Main language at work</th>\n",
       "      <th>Company size</th>\n",
       "      <th>Company type</th>\n",
       "    </tr>\n",
       "  </thead>\n",
       "  <tbody>\n",
       "    <tr>\n",
       "      <th>760</th>\n",
       "      <td>03/06/2020 20:12:51</td>\n",
       "      <td>40.0</td>\n",
       "      <td>M</td>\n",
       "      <td>Köln</td>\n",
       "      <td>Java Developer junior</td>\n",
       "      <td>1.0</td>\n",
       "      <td>Junior</td>\n",
       "      <td>44000.0</td>\n",
       "      <td>40000.0</td>\n",
       "      <td>40000.0</td>\n",
       "      <td>Yes</td>\n",
       "      <td>Deutsch</td>\n",
       "      <td>10-50</td>\n",
       "      <td>Product</td>\n",
       "    </tr>\n",
       "    <tr>\n",
       "      <th>761</th>\n",
       "      <td>28/07/2020 04:03:13</td>\n",
       "      <td>NaN</td>\n",
       "      <td>M</td>\n",
       "      <td>Köln</td>\n",
       "      <td>E.g. C# Developer</td>\n",
       "      <td>1.0</td>\n",
       "      <td>Junior</td>\n",
       "      <td>45000.0</td>\n",
       "      <td>40000.0</td>\n",
       "      <td>40000.0</td>\n",
       "      <td>Yes</td>\n",
       "      <td>Deutsch</td>\n",
       "      <td>10-50</td>\n",
       "      <td>Product</td>\n",
       "    </tr>\n",
       "    <tr>\n",
       "      <th>762</th>\n",
       "      <td>28/07/2020 04:03:20</td>\n",
       "      <td>NaN</td>\n",
       "      <td>M</td>\n",
       "      <td>Köln</td>\n",
       "      <td>E.g. C# Developer</td>\n",
       "      <td>1.0</td>\n",
       "      <td>Junior</td>\n",
       "      <td>45000.0</td>\n",
       "      <td>40000.0</td>\n",
       "      <td>40000.0</td>\n",
       "      <td>Yes</td>\n",
       "      <td>Deutsch</td>\n",
       "      <td>10-50</td>\n",
       "      <td>Product</td>\n",
       "    </tr>\n",
       "    <tr>\n",
       "      <th>763</th>\n",
       "      <td>26/08/2020 09:06:44</td>\n",
       "      <td>NaN</td>\n",
       "      <td>NaN</td>\n",
       "      <td>NaN</td>\n",
       "      <td>NaN</td>\n",
       "      <td>NaN</td>\n",
       "      <td>NaN</td>\n",
       "      <td>NaN</td>\n",
       "      <td>NaN</td>\n",
       "      <td>NaN</td>\n",
       "      <td>NaN</td>\n",
       "      <td>NaN</td>\n",
       "      <td>NaN</td>\n",
       "      <td>NaN</td>\n",
       "    </tr>\n",
       "    <tr>\n",
       "      <th>764</th>\n",
       "      <td>21/09/2020 01:47:10</td>\n",
       "      <td>31.0</td>\n",
       "      <td>F</td>\n",
       "      <td>München</td>\n",
       "      <td>Pm</td>\n",
       "      <td>10.0</td>\n",
       "      <td>Senior</td>\n",
       "      <td>110000.0</td>\n",
       "      <td>NaN</td>\n",
       "      <td>NaN</td>\n",
       "      <td>No</td>\n",
       "      <td>English</td>\n",
       "      <td>1000+</td>\n",
       "      <td>Product</td>\n",
       "    </tr>\n",
       "  </tbody>\n",
       "</table>\n",
       "</div>"
      ],
      "text/plain": [
       "               Timestamp   Age Gender     City               Position  \\\n",
       "760  03/06/2020 20:12:51  40.0      M     Köln  Java Developer junior   \n",
       "761  28/07/2020 04:03:13   NaN      M     Köln      E.g. C# Developer   \n",
       "762  28/07/2020 04:03:20   NaN      M     Köln      E.g. C# Developer   \n",
       "763  26/08/2020 09:06:44   NaN    NaN      NaN                    NaN   \n",
       "764  21/09/2020 01:47:10  31.0      F  München                    Pm    \n",
       "\n",
       "     Years of experience Your level  Current Salary  Salary one year ago  \\\n",
       "760                  1.0     Junior         44000.0              40000.0   \n",
       "761                  1.0     Junior         45000.0              40000.0   \n",
       "762                  1.0     Junior         45000.0              40000.0   \n",
       "763                  NaN        NaN             NaN                  NaN   \n",
       "764                 10.0     Senior        110000.0                  NaN   \n",
       "\n",
       "     Salary two years ago Are you getting any Stock Options?  \\\n",
       "760               40000.0                                Yes   \n",
       "761               40000.0                                Yes   \n",
       "762               40000.0                                Yes   \n",
       "763                   NaN                                NaN   \n",
       "764                   NaN                                 No   \n",
       "\n",
       "    Main language at work Company size Company type  \n",
       "760               Deutsch        10-50      Product  \n",
       "761               Deutsch        10-50      Product  \n",
       "762               Deutsch        10-50      Product  \n",
       "763                   NaN          NaN          NaN  \n",
       "764               English        1000+      Product  "
      ]
     },
     "execution_count": 7,
     "metadata": {},
     "output_type": "execute_result"
    }
   ],
   "source": [
    "df.tail()"
   ]
  },
  {
   "cell_type": "code",
   "execution_count": 9,
   "id": "7c531fdc",
   "metadata": {},
   "outputs": [
    {
     "data": {
      "text/plain": [
       "Index(['Timestamp', 'Age', 'Gender', 'City', 'Position', 'Years of experience',\n",
       "       'Your level', 'Current Salary', 'Salary one year ago',\n",
       "       'Salary two years ago', 'Are you getting any Stock Options?',\n",
       "       'Main language at work', 'Company size', 'Company type'],\n",
       "      dtype='object')"
      ]
     },
     "execution_count": 9,
     "metadata": {},
     "output_type": "execute_result"
    }
   ],
   "source": [
    "df.columns"
   ]
  },
  {
   "cell_type": "code",
   "execution_count": 10,
   "id": "f7161646",
   "metadata": {},
   "outputs": [
    {
     "data": {
      "text/plain": [
       "Timestamp                               0\n",
       "Age                                    93\n",
       "Gender                                 14\n",
       "City                                   29\n",
       "Position                               28\n",
       "Years of experience                    33\n",
       "Your level                             22\n",
       "Current Salary                         15\n",
       "Salary one year ago                   169\n",
       "Salary two years ago                  302\n",
       "Are you getting any Stock Options?     23\n",
       "Main language at work                  15\n",
       "Company size                           15\n",
       "Company type                           35\n",
       "dtype: int64"
      ]
     },
     "execution_count": 10,
     "metadata": {},
     "output_type": "execute_result"
    }
   ],
   "source": [
    "df.isnull().sum()"
   ]
  },
  {
   "cell_type": "code",
   "execution_count": 11,
   "id": "0a13669b",
   "metadata": {},
   "outputs": [
    {
     "data": {
      "text/plain": [
       "<AxesSubplot:>"
      ]
     },
     "execution_count": 11,
     "metadata": {},
     "output_type": "execute_result"
    },
    {
     "data": {
      "image/png": "[encoded data removed]",
      "text/plain": [
       "<Figure size 432x288 with 2 Axes>"
      ]
     },
     "metadata": {
      "needs_background": "light"
     },
     "output_type": "display_data"
    }
   ],
   "source": [
    "plt.figure(figsize=(6,4))\n",
    "sns.heatmap(df.corr(),cmap='Blues',annot=False) "
   ]
  },
  {
   "cell_type": "code",
   "execution_count": 12,
   "id": "826d0eef",
   "metadata": {},
   "outputs": [
    {
     "data": {
      "image/png": "[encoded data removed]",
      "text/plain": [
       "<Figure size 1080x576 with 2 Axes>"
      ]
     },
     "metadata": {
      "needs_background": "light"
     },
     "output_type": "display_data"
    }
   ],
   "source": [
    "# Age of survey participants distribution\n",
    "fig, (ax_box,ax_hist) = plt.subplots(2,sharex=True,figsize=(15,8))\n",
    "\n",
    "sns.boxplot(data=df,x='Age',ax=ax_box)\n",
    "ax_box.set(xlabel=\"\")\n",
    "sns.histplot(data=df,x='Age',kde=True,ax=ax_hist)\n",
    "\n",
    "plt.xticks(fontsize=14,rotation=90)\n",
    "plt.xlabel(\"Age of survey participants\",fontsize=14)\n",
    "plt.yticks(fontsize=14)\n",
    "plt.ylabel(\"Frequencies\",fontsize=16)\n",
    "plt.show()"
   ]
  },
  {
   "cell_type": "code",
   "execution_count": 13,
   "id": "87dc5a71",
   "metadata": {},
   "outputs": [
    {
     "data": {
      "image/png": "[encoded data removed]",
      "text/plain": [
       "<Figure size 1080x576 with 1 Axes>"
      ]
     },
     "metadata": {
      "needs_background": "light"
     },
     "output_type": "display_data"
    }
   ],
   "source": [
    "# Using count plot\n",
    "plt.figure(figsize=(15,8))\n",
    "ax = sns.countplot(data=df,x='Age')\n",
    "\n",
    "\n",
    "\n",
    "plt.xticks(fontsize=17,rotation=90)\n",
    "plt.xlabel(\"Age of survey participants\",fontsize=18)\n",
    "plt.yticks(fontsize=17)\n",
    "plt.ylabel(\"Frequency\",fontsize=18)\n",
    "plt.show()"
   ]
  },
  {
   "cell_type": "code",
   "execution_count": 14,
   "id": "a59b195f",
   "metadata": {},
   "outputs": [
    {
     "data": {
      "image/png": "[encoded data removed]",
      "text/plain": [
       "<Figure size 1080x576 with 1 Axes>"
      ]
     },
     "metadata": {
      "needs_background": "light"
     },
     "output_type": "display_data"
    }
   ],
   "source": [
    "plt.figure(figsize=(15,8))\n",
    "sns.barplot(data=df['City'].value_counts().head(15).reset_index(),\n",
    "        y='index',x='City')\n",
    "plt.xticks(fontsize=13)\n",
    "plt.xlabel(\"Frequency\",fontsize=16)\n",
    "plt.yticks(fontsize=13)\n",
    "plt.ylabel(\"Country\",fontsize=16)\n",
    "plt.show()"
   ]
  },
  {
   "cell_type": "code",
   "execution_count": 15,
   "id": "9e0eacb7",
   "metadata": {},
   "outputs": [
    {
     "data": {
      "image/png": "[encoded data removed]",
      "text/plain": [
       "<Figure size 1080x576 with 1 Axes>"
      ]
     },
     "metadata": {},
     "output_type": "display_data"
    }
   ],
   "source": [
    "# Top 5 City on the survey \n",
    "plt.figure(figsize=(15,8))\n",
    "\n",
    "df['City'].value_counts().iloc[:5].plot.pie(autopct=\"%1.2f%%\",fontsize=13,startangle=90,labels=['']*5,\n",
    "                                         cmap='Set2',explode=[0.05] * 5,pctdistance=1.2)\n",
    "plt.ylabel(\"\")\n",
    "plt.legend(loc='upper left',labels=df['City'].value_counts().iloc[:5].index)\n",
    "plt.show()"
   ]
  },
  {
   "cell_type": "code",
   "execution_count": null,
   "id": "dd21074b",
   "metadata": {},
   "outputs": [],
   "source": []
  },
  {
   "cell_type": "code",
   "execution_count": null,
   "id": "66bc6940",
   "metadata": {},
   "outputs": [],
   "source": []
  },
  {
   "cell_type": "code",
   "execution_count": null,
   "id": "e8629113",
   "metadata": {},
   "outputs": [],
   "source": []
  },
  {
   "cell_type": "code",
   "execution_count": null,
   "id": "9de59814",
   "metadata": {},
   "outputs": [],
   "source": []
  },
  {
   "cell_type": "code",
   "execution_count": null,
   "id": "3f11353b",
   "metadata": {},
   "outputs": [],
   "source": []
  }
 ],
 "metadata": {
  "kernelspec": {
   "display_name": "Python 3 (ipykernel)",
   "language": "python",
   "name": "python3"
  },
  "language_info": {
   "codemirror_mode": {
    "name": "ipython",
    "version": 3
   },
   "file_extension": ".py",
   "mimetype": "text/x-python",
   "name": "python",
   "nbconvert_exporter": "python",
   "pygments_lexer": "ipython3",
   "version": "3.10.4"
  },
  "vscode": {
   "interpreter": {
    "hash": "a9cff5a362bc38ef45d817ae74b1af54d6a076e3d773891282bce078b815ba34"
   }
  }
 },
 "nbformat": 4,
 "nbformat_minor": 5
}
